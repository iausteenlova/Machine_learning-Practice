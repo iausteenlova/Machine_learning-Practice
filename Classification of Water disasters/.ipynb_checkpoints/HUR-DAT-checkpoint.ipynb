{
 "cells": [
  {
   "cell_type": "markdown",
   "metadata": {},
   "source": [
    "# Project 2 "
   ]
  },
  {
   "cell_type": "markdown",
   "metadata": {
    "heading_collapsed": true
   },
   "source": [
    "#### Importing Necessary Libraries"
   ]
  },
  {
   "cell_type": "code",
   "execution_count": 1,
   "metadata": {
    "ExecuteTime": {
     "end_time": "2020-01-03T13:46:52.535851Z",
     "start_time": "2020-01-03T13:46:26.958090Z"
    },
    "hidden": true
   },
   "outputs": [],
   "source": [
    "import numpy as np\n",
    "import pandas as pd\n",
    "import matplotlib.pyplot as plt\n",
    "import seaborn as sns\n",
    "import warnings\n",
    "warnings.filterwarnings('ignore')"
   ]
  },
  {
   "cell_type": "markdown",
   "metadata": {},
   "source": [
    "#### Loading the Data"
   ]
  },
  {
   "cell_type": "code",
   "execution_count": 2,
   "metadata": {
    "ExecuteTime": {
     "end_time": "2020-01-03T13:49:32.072912Z",
     "start_time": "2020-01-03T13:49:31.339557Z"
    }
   },
   "outputs": [],
   "source": [
    "Pacific_train = pd.read_csv('Pacific_train.csv')\n",
    "ptdf = Pacific_train.copy()"
   ]
  },
  {
   "cell_type": "code",
   "execution_count": 4,
   "metadata": {
    "ExecuteTime": {
     "end_time": "2020-01-03T13:50:05.280270Z",
     "start_time": "2020-01-03T13:50:05.270729Z"
    }
   },
   "outputs": [
    {
     "data": {
      "text/plain": [
       "(15681, 22)"
      ]
     },
     "execution_count": 4,
     "metadata": {},
     "output_type": "execute_result"
    }
   ],
   "source": [
    "# Shape of the DataFrame\n",
    "ptdf.shape"
   ]
  },
  {
   "cell_type": "code",
   "execution_count": 17,
   "metadata": {
    "ExecuteTime": {
     "end_time": "2020-01-03T14:12:41.163336Z",
     "start_time": "2020-01-03T14:12:41.000337Z"
    }
   },
   "outputs": [
    {
     "name": "stdout",
     "output_type": "stream",
     "text": [
      "<class 'pandas.core.frame.DataFrame'>\n",
      "RangeIndex: 15681 entries, 0 to 15680\n",
      "Data columns (total 22 columns):\n",
      "ID                  15681 non-null object\n",
      "Name                15681 non-null object\n",
      "Date                15681 non-null int64\n",
      "Time                15681 non-null int64\n",
      "Event               15681 non-null object\n",
      "Status              15681 non-null object\n",
      "Latitude            15681 non-null object\n",
      "Longitude           15681 non-null object\n",
      "Maximum Wind        15681 non-null int64\n",
      "Minimum Pressure    15681 non-null int64\n",
      "Low Wind NE         15681 non-null int64\n",
      "Low Wind SE         15681 non-null int64\n",
      "Low Wind SW         15681 non-null int64\n",
      "Low Wind NW         15681 non-null int64\n",
      "Moderate Wind NE    15681 non-null int64\n",
      "Moderate Wind SE    15681 non-null int64\n",
      "Moderate Wind SW    15681 non-null int64\n",
      "Moderate Wind NW    15681 non-null int64\n",
      "High Wind NE        15681 non-null int64\n",
      "High Wind SE        15681 non-null int64\n",
      "High Wind SW        15681 non-null int64\n",
      "High Wind NW        15681 non-null int64\n",
      "dtypes: int64(16), object(6)\n",
      "memory usage: 2.6+ MB\n"
     ]
    }
   ],
   "source": [
    "ptdf.info()"
   ]
  },
  {
   "cell_type": "markdown",
   "metadata": {},
   "source": [
    "* Yeah ! There are no Null Values..."
   ]
  },
  {
   "cell_type": "code",
   "execution_count": 6,
   "metadata": {
    "ExecuteTime": {
     "end_time": "2020-01-03T13:51:13.422457Z",
     "start_time": "2020-01-03T13:51:13.144773Z"
    }
   },
   "outputs": [
    {
     "data": {
      "text/html": [
       "<div>\n",
       "<style scoped>\n",
       "    .dataframe tbody tr th:only-of-type {\n",
       "        vertical-align: middle;\n",
       "    }\n",
       "\n",
       "    .dataframe tbody tr th {\n",
       "        vertical-align: top;\n",
       "    }\n",
       "\n",
       "    .dataframe thead th {\n",
       "        text-align: right;\n",
       "    }\n",
       "</style>\n",
       "<table border=\"1\" class=\"dataframe\">\n",
       "  <thead>\n",
       "    <tr style=\"text-align: right;\">\n",
       "      <th></th>\n",
       "      <th>ID</th>\n",
       "      <th>Name</th>\n",
       "      <th>Date</th>\n",
       "      <th>Time</th>\n",
       "      <th>Event</th>\n",
       "      <th>Status</th>\n",
       "      <th>Latitude</th>\n",
       "      <th>Longitude</th>\n",
       "      <th>Maximum Wind</th>\n",
       "      <th>Minimum Pressure</th>\n",
       "      <th>...</th>\n",
       "      <th>Low Wind SW</th>\n",
       "      <th>Low Wind NW</th>\n",
       "      <th>Moderate Wind NE</th>\n",
       "      <th>Moderate Wind SE</th>\n",
       "      <th>Moderate Wind SW</th>\n",
       "      <th>Moderate Wind NW</th>\n",
       "      <th>High Wind NE</th>\n",
       "      <th>High Wind SE</th>\n",
       "      <th>High Wind SW</th>\n",
       "      <th>High Wind NW</th>\n",
       "    </tr>\n",
       "  </thead>\n",
       "  <tbody>\n",
       "    <tr>\n",
       "      <th>0</th>\n",
       "      <td>EP101996</td>\n",
       "      <td>GENEVIEVE</td>\n",
       "      <td>19961003</td>\n",
       "      <td>0</td>\n",
       "      <td></td>\n",
       "      <td>TD</td>\n",
       "      <td>15.0N</td>\n",
       "      <td>120.0W</td>\n",
       "      <td>25</td>\n",
       "      <td>1009</td>\n",
       "      <td>...</td>\n",
       "      <td>-999</td>\n",
       "      <td>-999</td>\n",
       "      <td>-999</td>\n",
       "      <td>-999</td>\n",
       "      <td>-999</td>\n",
       "      <td>-999</td>\n",
       "      <td>-999</td>\n",
       "      <td>-999</td>\n",
       "      <td>-999</td>\n",
       "      <td>-999</td>\n",
       "    </tr>\n",
       "    <tr>\n",
       "      <th>1</th>\n",
       "      <td>EP101988</td>\n",
       "      <td>JOHN</td>\n",
       "      <td>19880817</td>\n",
       "      <td>1200</td>\n",
       "      <td></td>\n",
       "      <td>TD</td>\n",
       "      <td>18.6N</td>\n",
       "      <td>107.4W</td>\n",
       "      <td>30</td>\n",
       "      <td>1007</td>\n",
       "      <td>...</td>\n",
       "      <td>-999</td>\n",
       "      <td>-999</td>\n",
       "      <td>-999</td>\n",
       "      <td>-999</td>\n",
       "      <td>-999</td>\n",
       "      <td>-999</td>\n",
       "      <td>-999</td>\n",
       "      <td>-999</td>\n",
       "      <td>-999</td>\n",
       "      <td>-999</td>\n",
       "    </tr>\n",
       "    <tr>\n",
       "      <th>2</th>\n",
       "      <td>EP061951</td>\n",
       "      <td>UNNAMED</td>\n",
       "      <td>19510827</td>\n",
       "      <td>0</td>\n",
       "      <td></td>\n",
       "      <td>TS</td>\n",
       "      <td>22.5N</td>\n",
       "      <td>115.1W</td>\n",
       "      <td>45</td>\n",
       "      <td>-999</td>\n",
       "      <td>...</td>\n",
       "      <td>-999</td>\n",
       "      <td>-999</td>\n",
       "      <td>-999</td>\n",
       "      <td>-999</td>\n",
       "      <td>-999</td>\n",
       "      <td>-999</td>\n",
       "      <td>-999</td>\n",
       "      <td>-999</td>\n",
       "      <td>-999</td>\n",
       "      <td>-999</td>\n",
       "    </tr>\n",
       "    <tr>\n",
       "      <th>3</th>\n",
       "      <td>EP101987</td>\n",
       "      <td>JOVA</td>\n",
       "      <td>19870814</td>\n",
       "      <td>1200</td>\n",
       "      <td></td>\n",
       "      <td>TS</td>\n",
       "      <td>12.8N</td>\n",
       "      <td>122.1W</td>\n",
       "      <td>35</td>\n",
       "      <td>-999</td>\n",
       "      <td>...</td>\n",
       "      <td>-999</td>\n",
       "      <td>-999</td>\n",
       "      <td>-999</td>\n",
       "      <td>-999</td>\n",
       "      <td>-999</td>\n",
       "      <td>-999</td>\n",
       "      <td>-999</td>\n",
       "      <td>-999</td>\n",
       "      <td>-999</td>\n",
       "      <td>-999</td>\n",
       "    </tr>\n",
       "    <tr>\n",
       "      <th>4</th>\n",
       "      <td>EP142007</td>\n",
       "      <td>JULIETTE</td>\n",
       "      <td>20071004</td>\n",
       "      <td>1800</td>\n",
       "      <td></td>\n",
       "      <td>LO</td>\n",
       "      <td>22.4N</td>\n",
       "      <td>113.0W</td>\n",
       "      <td>25</td>\n",
       "      <td>1008</td>\n",
       "      <td>...</td>\n",
       "      <td>0</td>\n",
       "      <td>0</td>\n",
       "      <td>0</td>\n",
       "      <td>0</td>\n",
       "      <td>0</td>\n",
       "      <td>0</td>\n",
       "      <td>0</td>\n",
       "      <td>0</td>\n",
       "      <td>0</td>\n",
       "      <td>0</td>\n",
       "    </tr>\n",
       "  </tbody>\n",
       "</table>\n",
       "<p>5 rows × 22 columns</p>\n",
       "</div>"
      ],
      "text/plain": [
       "         ID                 Name      Date  Time Event Status Latitude  \\\n",
       "0  EP101996            GENEVIEVE  19961003     0           TD    15.0N   \n",
       "1  EP101988                 JOHN  19880817  1200           TD    18.6N   \n",
       "2  EP061951              UNNAMED  19510827     0           TS    22.5N   \n",
       "3  EP101987                 JOVA  19870814  1200           TS    12.8N   \n",
       "4  EP142007             JULIETTE  20071004  1800           LO    22.4N   \n",
       "\n",
       "  Longitude  Maximum Wind  Minimum Pressure  ...  Low Wind SW  Low Wind NW  \\\n",
       "0    120.0W            25              1009  ...         -999         -999   \n",
       "1    107.4W            30              1007  ...         -999         -999   \n",
       "2    115.1W            45              -999  ...         -999         -999   \n",
       "3    122.1W            35              -999  ...         -999         -999   \n",
       "4    113.0W            25              1008  ...            0            0   \n",
       "\n",
       "   Moderate Wind NE  Moderate Wind SE  Moderate Wind SW  Moderate Wind NW  \\\n",
       "0              -999              -999              -999              -999   \n",
       "1              -999              -999              -999              -999   \n",
       "2              -999              -999              -999              -999   \n",
       "3              -999              -999              -999              -999   \n",
       "4                 0                 0                 0                 0   \n",
       "\n",
       "   High Wind NE  High Wind SE  High Wind SW  High Wind NW  \n",
       "0          -999          -999          -999          -999  \n",
       "1          -999          -999          -999          -999  \n",
       "2          -999          -999          -999          -999  \n",
       "3          -999          -999          -999          -999  \n",
       "4             0             0             0             0  \n",
       "\n",
       "[5 rows x 22 columns]"
      ]
     },
     "execution_count": 6,
     "metadata": {},
     "output_type": "execute_result"
    }
   ],
   "source": [
    "ptdf.head()"
   ]
  },
  {
   "cell_type": "code",
   "execution_count": 16,
   "metadata": {
    "ExecuteTime": {
     "end_time": "2020-01-03T14:12:24.190260Z",
     "start_time": "2020-01-03T14:12:24.151906Z"
    }
   },
   "outputs": [
    {
     "name": "stdout",
     "output_type": "stream",
     "text": [
      "Unique Values of ID : 1049\n",
      "Unique Values of Name : 267\n",
      "Unique Values of Date : 4971\n",
      "Unique Values of Time : 30\n",
      "Unique Values of Event : 5\n",
      "Unique Values of Status : 11\n",
      "Unique Values of Latitude : 342\n",
      "Unique Values of Longitude : 1110\n",
      "Unique Values of Maximum Wind : 37\n",
      "Unique Values of Minimum Pressure : 114\n",
      "Unique Values of Low Wind NE : 43\n",
      "Unique Values of Low Wind SE : 40\n",
      "Unique Values of Low Wind SW : 36\n",
      "Unique Values of Low Wind NW : 38\n",
      "Unique Values of Moderate Wind NE : 27\n",
      "Unique Values of Moderate Wind SE : 25\n",
      "Unique Values of Moderate Wind SW : 23\n",
      "Unique Values of Moderate Wind NW : 26\n",
      "Unique Values of High Wind NE : 19\n",
      "Unique Values of High Wind SE : 15\n",
      "Unique Values of High Wind SW : 16\n",
      "Unique Values of High Wind NW : 19\n"
     ]
    }
   ],
   "source": [
    "for i in ptdf:\n",
    "    print(f'Unique Values of {i} : {ptdf[i].nunique()}')"
   ]
  },
  {
   "cell_type": "code",
   "execution_count": 18,
   "metadata": {
    "ExecuteTime": {
     "end_time": "2020-01-03T14:12:44.111337Z",
     "start_time": "2020-01-03T14:12:44.080170Z"
    }
   },
   "outputs": [
    {
     "name": "stdout",
     "output_type": "stream",
     "text": [
      "<class 'pandas.core.frame.DataFrame'>\n",
      "RangeIndex: 15681 entries, 0 to 15680\n",
      "Data columns (total 22 columns):\n",
      "ID                  15681 non-null object\n",
      "Name                15681 non-null object\n",
      "Date                15681 non-null int64\n",
      "Time                15681 non-null int64\n",
      "Event               15681 non-null object\n",
      "Status              15681 non-null object\n",
      "Latitude            15681 non-null object\n",
      "Longitude           15681 non-null object\n",
      "Maximum Wind        15681 non-null int64\n",
      "Minimum Pressure    15681 non-null int64\n",
      "Low Wind NE         15681 non-null int64\n",
      "Low Wind SE         15681 non-null int64\n",
      "Low Wind SW         15681 non-null int64\n",
      "Low Wind NW         15681 non-null int64\n",
      "Moderate Wind NE    15681 non-null int64\n",
      "Moderate Wind SE    15681 non-null int64\n",
      "Moderate Wind SW    15681 non-null int64\n",
      "Moderate Wind NW    15681 non-null int64\n",
      "High Wind NE        15681 non-null int64\n",
      "High Wind SE        15681 non-null int64\n",
      "High Wind SW        15681 non-null int64\n",
      "High Wind NW        15681 non-null int64\n",
      "dtypes: int64(16), object(6)\n",
      "memory usage: 2.6+ MB\n"
     ]
    }
   ],
   "source": [
    "ptdf.info()"
   ]
  },
  {
   "cell_type": "markdown",
   "metadata": {},
   "source": [
    "* As there are some Object data types in the data\n",
    "* Converting them to Numerical\n",
    "* To understand the data and apply Feature Engineering and Selection techniques"
   ]
  },
  {
   "cell_type": "code",
   "execution_count": null,
   "metadata": {},
   "outputs": [],
   "source": []
  }
 ],
 "metadata": {
  "kernelspec": {
   "display_name": "Python 3",
   "language": "python",
   "name": "python3"
  },
  "language_info": {
   "codemirror_mode": {
    "name": "ipython",
    "version": 3
   },
   "file_extension": ".py",
   "mimetype": "text/x-python",
   "name": "python",
   "nbconvert_exporter": "python",
   "pygments_lexer": "ipython3",
   "version": "3.7.3"
  }
 },
 "nbformat": 4,
 "nbformat_minor": 2
}
